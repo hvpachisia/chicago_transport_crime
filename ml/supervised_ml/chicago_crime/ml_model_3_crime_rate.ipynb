{
 "cells": [
  {
   "cell_type": "markdown",
   "metadata": {},
   "source": [
    "# Crime Rate Prediction\n",
    "\n",
    "Research Question: Can socio-economic indicators and crime history predict the yearly crime rate change in a community?"
   ]
  },
  {
   "cell_type": "code",
   "execution_count": 1,
   "metadata": {},
   "outputs": [
    {
     "data": {
      "text/html": [
       "Current session configs: <tt>{'conf': {'spark.pyspark.python': 'python3', 'spark.pyspark.virtualenv.enabled': 'true', 'spark.pyspark.virtualenv.type': 'native', 'spark.pyspark.virtualenv.bin.path': '/usr/bin/virtualenv'}, 'proxyUser': 'jovyan', 'kind': 'pyspark'}</tt><br>"
      ],
      "text/plain": [
       "<IPython.core.display.HTML object>"
      ]
     },
     "metadata": {},
     "output_type": "display_data"
    },
    {
     "data": {
      "text/html": [
       "<table>\n",
       "<tr><th>ID</th><th>YARN Application ID</th><th>Kind</th><th>State</th><th>Spark UI</th><th>Driver log</th><th>Current session?</th></tr><tr><td>0</td><td>application_1716490809401_0002</td><td>pyspark</td><td>busy</td><td><a target=\"_blank\" href=\"http://ip-172-31-5-83.ec2.internal:20888/proxy/application_1716490809401_0002/\">Link</a></td><td><a target=\"_blank\" href=\"http://ip-172-31-11-119.ec2.internal:8042/node/containerlogs/container_1716490809401_0002_01_000001/livy\">Link</a></td><td></td></tr></table>"
      ],
      "text/plain": [
       "<IPython.core.display.HTML object>"
      ]
     },
     "metadata": {},
     "output_type": "display_data"
    }
   ],
   "source": [
    "%%configure -f\n",
    "{\n",
    "    \"conf\": {\n",
    "        \"spark.pyspark.python\": \"python3\",\n",
    "        \"spark.pyspark.virtualenv.enabled\": \"true\",\n",
    "        \"spark.pyspark.virtualenv.type\":\"native\",\n",
    "        \"spark.pyspark.virtualenv.bin.path\":\"/usr/bin/virtualenv\"\n",
    "    }\n",
    "}"
   ]
  },
  {
   "cell_type": "code",
   "execution_count": 2,
   "metadata": {},
   "outputs": [
    {
     "name": "stdout",
     "output_type": "stream",
     "text": [
      "Starting Spark application\n"
     ]
    },
    {
     "data": {
      "text/html": [
       "<table>\n",
       "<tr><th>ID</th><th>YARN Application ID</th><th>Kind</th><th>State</th><th>Spark UI</th><th>Driver log</th><th>Current session?</th></tr><tr><td>1</td><td>application_1716490809401_0003</td><td>pyspark</td><td>idle</td><td><a target=\"_blank\" href=\"http://ip-172-31-5-83.ec2.internal:20888/proxy/application_1716490809401_0003/\">Link</a></td><td><a target=\"_blank\" href=\"http://ip-172-31-11-119.ec2.internal:8042/node/containerlogs/container_1716490809401_0003_01_000001/livy\">Link</a></td><td>✔</td></tr></table>"
      ],
      "text/plain": [
       "<IPython.core.display.HTML object>"
      ]
     },
     "metadata": {},
     "output_type": "display_data"
    },
    {
     "data": {
      "application/vnd.jupyter.widget-view+json": {
       "model_id": "",
       "version_major": 2,
       "version_minor": 0
      },
      "text/plain": [
       "FloatProgress(value=0.0, bar_style='info', description='Progress:', layout=Layout(height='25px', width='50%'),…"
      ]
     },
     "metadata": {},
     "output_type": "display_data"
    },
    {
     "name": "stdout",
     "output_type": "stream",
     "text": [
      "SparkSession available as 'spark'.\n"
     ]
    },
    {
     "data": {
      "application/vnd.jupyter.widget-view+json": {
       "model_id": "",
       "version_major": 2,
       "version_minor": 0
      },
      "text/plain": [
       "FloatProgress(value=0.0, bar_style='info', description='Progress:', layout=Layout(height='25px', width='50%'),…"
      ]
     },
     "metadata": {},
     "output_type": "display_data"
    },
    {
     "name": "stdout",
     "output_type": "stream",
     "text": [
      "Collecting matplotlib==3.2.1\n",
      "  Using cached https://files.pythonhosted.org/packages/b2/c2/71fcf957710f3ba1f09088b35776a799ba7dd95f7c2b195ec800933b276b/matplotlib-3.2.1-cp37-cp37m-manylinux1_x86_64.whl\n",
      "Collecting pyparsing!=2.0.4,!=2.1.2,!=2.1.6,>=2.0.1 (from matplotlib==3.2.1)\n",
      "  Using cached https://files.pythonhosted.org/packages/9d/ea/6d76df31432a0e6fdf81681a895f009a4bb47b3c39036db3e1b528191d52/pyparsing-3.1.2-py3-none-any.whl\n",
      "Collecting python-dateutil>=2.1 (from matplotlib==3.2.1)\n",
      "  Using cached https://files.pythonhosted.org/packages/ec/57/56b9bcc3c9c6a792fcbaf139543cee77261f3651ca9da0c93f5c1221264b/python_dateutil-2.9.0.post0-py2.py3-none-any.whl\n",
      "Requirement already satisfied: numpy>=1.11 in /usr/local/lib64/python3.7/site-packages (from matplotlib==3.2.1)\n",
      "Collecting cycler>=0.10 (from matplotlib==3.2.1)\n",
      "  Using cached https://files.pythonhosted.org/packages/5c/f9/695d6bedebd747e5eb0fe8fad57b72fdf25411273a39791cde838d5a8f51/cycler-0.11.0-py3-none-any.whl\n",
      "Collecting kiwisolver>=1.0.1 (from matplotlib==3.2.1)\n",
      "  Using cached https://files.pythonhosted.org/packages/f9/77/e3046bf19720b22e3e0b7c12e28f6f2c0c18a213fb91a56cea640862270f/kiwisolver-1.4.5-cp37-cp37m-manylinux_2_5_x86_64.manylinux1_x86_64.whl\n",
      "Requirement already satisfied: six>=1.5 in /usr/local/lib/python3.7/site-packages (from python-dateutil>=2.1->matplotlib==3.2.1)\n",
      "Collecting typing-extensions; python_version < \"3.8\" (from kiwisolver>=1.0.1->matplotlib==3.2.1)\n",
      "  Using cached https://files.pythonhosted.org/packages/ec/6b/63cc3df74987c36fe26157ee12e09e8f9db4de771e0f3404263117e75b95/typing_extensions-4.7.1-py3-none-any.whl\n",
      "Installing collected packages: pyparsing, python-dateutil, cycler, typing-extensions, kiwisolver, matplotlib\n",
      "Successfully installed cycler-0.11.0 kiwisolver-1.4.5 matplotlib-3.2.1 pyparsing-3.1.2 python-dateutil-2.9.0.post0 typing-extensions-4.7.1\n",
      "\n",
      "Collecting pandas==1.0.5\n",
      "  Using cached https://files.pythonhosted.org/packages/af/f3/683bf2547a3eaeec15b39cef86f61e921b3b187f250fcd2b5c5fb4386369/pandas-1.0.5-cp37-cp37m-manylinux1_x86_64.whl\n",
      "Requirement already satisfied: numpy>=1.13.3 in /usr/local/lib64/python3.7/site-packages (from pandas==1.0.5)\n",
      "Requirement already satisfied: python-dateutil>=2.6.1 in /mnt/tmp/1716491712843-0/lib/python3.7/site-packages (from pandas==1.0.5)\n",
      "Requirement already satisfied: pytz>=2017.2 in /usr/local/lib/python3.7/site-packages (from pandas==1.0.5)\n",
      "Requirement already satisfied: six>=1.5 in /usr/local/lib/python3.7/site-packages (from python-dateutil>=2.6.1->pandas==1.0.5)\n",
      "Installing collected packages: pandas\n",
      "Successfully installed pandas-1.0.5\n",
      "\n",
      "Collecting scipy==1.4.1\n",
      "  Using cached https://files.pythonhosted.org/packages/dd/82/c1fe128f3526b128cfd185580ba40d01371c5d299fcf7f77968e22dfcc2e/scipy-1.4.1-cp37-cp37m-manylinux1_x86_64.whl\n",
      "Requirement already satisfied: numpy>=1.13.3 in /usr/local/lib64/python3.7/site-packages (from scipy==1.4.1)\n",
      "Installing collected packages: scipy\n",
      "Successfully installed scipy-1.4.1\n",
      "\n",
      "Collecting seaborn==0.11.2\n",
      "  Using cached https://files.pythonhosted.org/packages/10/5b/0479d7d845b5ba410ca702ffcd7f2cd95a14a4dfff1fde2637802b258b9b/seaborn-0.11.2-py3-none-any.whl\n",
      "Requirement already satisfied: scipy>=1.0 in /mnt/tmp/1716491712843-0/lib/python3.7/site-packages (from seaborn==0.11.2)\n",
      "Requirement already satisfied: pandas>=0.23 in /mnt/tmp/1716491712843-0/lib/python3.7/site-packages (from seaborn==0.11.2)\n",
      "Requirement already satisfied: numpy>=1.15 in /usr/local/lib64/python3.7/site-packages (from seaborn==0.11.2)\n",
      "Requirement already satisfied: matplotlib>=2.2 in /mnt/tmp/1716491712843-0/lib/python3.7/site-packages (from seaborn==0.11.2)\n",
      "Requirement already satisfied: python-dateutil>=2.6.1 in /mnt/tmp/1716491712843-0/lib/python3.7/site-packages (from pandas>=0.23->seaborn==0.11.2)\n",
      "Requirement already satisfied: pytz>=2017.2 in /usr/local/lib/python3.7/site-packages (from pandas>=0.23->seaborn==0.11.2)\n",
      "Requirement already satisfied: pyparsing!=2.0.4,!=2.1.2,!=2.1.6,>=2.0.1 in /mnt/tmp/1716491712843-0/lib/python3.7/site-packages (from matplotlib>=2.2->seaborn==0.11.2)\n",
      "Requirement already satisfied: cycler>=0.10 in /mnt/tmp/1716491712843-0/lib/python3.7/site-packages (from matplotlib>=2.2->seaborn==0.11.2)\n",
      "Requirement already satisfied: kiwisolver>=1.0.1 in /mnt/tmp/1716491712843-0/lib/python3.7/site-packages (from matplotlib>=2.2->seaborn==0.11.2)\n",
      "Requirement already satisfied: six>=1.5 in /usr/local/lib/python3.7/site-packages (from python-dateutil>=2.6.1->pandas>=0.23->seaborn==0.11.2)\n",
      "Requirement already satisfied: typing-extensions; python_version < \"3.8\" in /mnt/tmp/1716491712843-0/lib/python3.7/site-packages (from kiwisolver>=1.0.1->matplotlib>=2.2->seaborn==0.11.2)\n",
      "Installing collected packages: seaborn\n",
      "Successfully installed seaborn-0.11.2"
     ]
    }
   ],
   "source": [
    "sc.install_pypi_package(\"matplotlib==3.2.1\", \"https://pypi.org/simple\")\n",
    "sc.install_pypi_package(\"pandas==1.0.5\", \"https://pypi.org/simple\")\n",
    "sc.install_pypi_package(\"scipy==1.4.1\", \"https://pypi.org/simple\")\n",
    "sc.install_pypi_package(\"seaborn==0.11.2\", \"https://pypi.org/simple\")"
   ]
  },
  {
   "cell_type": "code",
   "execution_count": 3,
   "metadata": {},
   "outputs": [
    {
     "data": {
      "application/vnd.jupyter.widget-view+json": {
       "model_id": "",
       "version_major": 2,
       "version_minor": 0
      },
      "text/plain": [
       "FloatProgress(value=0.0, bar_style='info', description='Progress:', layout=Layout(height='25px', width='50%'),…"
      ]
     },
     "metadata": {},
     "output_type": "display_data"
    }
   ],
   "source": [
    "from pyspark.sql import SparkSession\n",
    "from pyspark.sql import functions as F\n",
    "from pyspark.sql.functions import col\n",
    "from pyspark.sql.functions import year, month\n",
    "import matplotlib.pyplot as plt\n",
    "from pyspark.sql.window import Window\n",
    "import pyspark.sql.functions as F\n",
    "from pyspark.ml.regression import LinearRegression\n",
    "from pyspark.ml.evaluation import RegressionEvaluator,MulticlassClassificationEvaluator\n",
    "from pyspark.ml.feature import VectorAssembler\n",
    "import matplotlib.pyplot as plt\n",
    "from pyspark.ml import Pipeline\n",
    "from pyspark.ml.feature import OneHotEncoder, StringIndexer, VectorAssembler, Bucketizer,StandardScaler\n",
    "from pyspark.ml.classification import RandomForestClassifier\n",
    "from pyspark.ml.tuning import ParamGridBuilder, CrossValidator"
   ]
  },
  {
   "cell_type": "code",
   "execution_count": 83,
   "metadata": {},
   "outputs": [
    {
     "data": {
      "application/vnd.jupyter.widget-view+json": {
       "model_id": "",
       "version_major": 2,
       "version_minor": 0
      },
      "text/plain": [
       "FloatProgress(value=0.0, bar_style='info', description='Progress:', layout=Layout(height='25px', width='50%'),…"
      ]
     },
     "metadata": {},
     "output_type": "display_data"
    }
   ],
   "source": [
    "crimes = spark.read \\\n",
    "    .option(\"quote\", \"\\\"\")  \\\n",
    "    .option(\"escape\", \"\\\"\") \\\n",
    "    .option(\"ignoreLeadingWhiteSpace\", True) \\\n",
    "    .option(\"header\", \"true\") \\\n",
    "    .parquet(\"s3://hvpachisia-chicago-crime/processed_data/\")"
   ]
  },
  {
   "cell_type": "code",
   "execution_count": 84,
   "metadata": {},
   "outputs": [
    {
     "data": {
      "application/vnd.jupyter.widget-view+json": {
       "model_id": "",
       "version_major": 2,
       "version_minor": 0
      },
      "text/plain": [
       "FloatProgress(value=0.0, bar_style='info', description='Progress:', layout=Layout(height='25px', width='50%'),…"
      ]
     },
     "metadata": {},
     "output_type": "display_data"
    },
    {
     "name": "stdout",
     "output_type": "stream",
     "text": [
      "root\n",
      " |-- community_area: string (nullable = true)\n",
      " |-- id: string (nullable = true)\n",
      " |-- case_number: string (nullable = true)\n",
      " |-- date: string (nullable = true)\n",
      " |-- block: string (nullable = true)\n",
      " |-- primary_type: string (nullable = true)\n",
      " |-- description: string (nullable = true)\n",
      " |-- location_description: string (nullable = true)\n",
      " |-- arrest: string (nullable = true)\n",
      " |-- domestic: string (nullable = true)\n",
      " |-- beat: string (nullable = true)\n",
      " |-- district: string (nullable = true)\n",
      " |-- ward: string (nullable = true)\n",
      " |-- x_coordinate: string (nullable = true)\n",
      " |-- y_coordinate: string (nullable = true)\n",
      " |-- year: string (nullable = true)\n",
      " |-- latitude: double (nullable = true)\n",
      " |-- longitude: double (nullable = true)\n",
      " |-- location: string (nullable = true)\n",
      " |-- month: string (nullable = true)\n",
      " |-- community_name: string (nullable = true)\n",
      " |-- birth_rate: string (nullable = true)\n",
      " |-- below_poverty_level: double (nullable = true)\n",
      " |-- crowded_housing: double (nullable = true)\n",
      " |-- no_high_school_diploma: double (nullable = true)\n",
      " |-- per_capita_income: integer (nullable = true)\n",
      " |-- unemployment: double (nullable = true)\n",
      " |-- hourofday: integer (nullable = true)\n",
      " |-- dayofweek: integer (nullable = true)\n",
      " |-- season: string (nullable = true)\n",
      " |-- isweekend: integer (nullable = true)\n",
      " |-- areacrimecount: long (nullable = true)\n",
      " |-- timesincelastcrime: long (nullable = true)\n",
      " |-- prevyearcrimecount: long (nullable = true)\n",
      " |-- yearlycrimeratechange: double (nullable = true)\n",
      " |-- nextcrimedate: string (nullable = true)\n",
      " |-- recurrentcrime: integer (nullable = true)\n",
      " |-- PrevCrimesAtLocation: long (nullable = true)"
     ]
    }
   ],
   "source": [
    "all_columns = crimes.schema.names\n",
    "\n",
    "columns_to_drop = [col for col in all_columns if \"index\" in col or \"vec\" in col]\n",
    "\n",
    "crimes = crimes.drop(*columns_to_drop)\n",
    "crimes.printSchema()"
   ]
  },
  {
   "cell_type": "code",
   "execution_count": 85,
   "metadata": {},
   "outputs": [
    {
     "data": {
      "application/vnd.jupyter.widget-view+json": {
       "model_id": "",
       "version_major": 2,
       "version_minor": 0
      },
      "text/plain": [
       "FloatProgress(value=0.0, bar_style='info', description='Progress:', layout=Layout(height='25px', width='50%'),…"
      ]
     },
     "metadata": {},
     "output_type": "display_data"
    }
   ],
   "source": [
    "crimes = crimes.drop('yearlycrimeratechange','prevyearcrimecount')"
   ]
  },
  {
   "cell_type": "code",
   "execution_count": 86,
   "metadata": {},
   "outputs": [
    {
     "data": {
      "application/vnd.jupyter.widget-view+json": {
       "model_id": "",
       "version_major": 2,
       "version_minor": 0
      },
      "text/plain": [
       "FloatProgress(value=0.0, bar_style='info', description='Progress:', layout=Layout(height='25px', width='50%'),…"
      ]
     },
     "metadata": {},
     "output_type": "display_data"
    }
   ],
   "source": [
    "crime_yearly_count = crimes.groupBy(\"community_area\", \"year\").agg(F.count(\"*\").alias(\"yearly_crime_count\"))"
   ]
  },
  {
   "cell_type": "code",
   "execution_count": 87,
   "metadata": {},
   "outputs": [
    {
     "data": {
      "application/vnd.jupyter.widget-view+json": {
       "model_id": "",
       "version_major": 2,
       "version_minor": 0
      },
      "text/plain": [
       "FloatProgress(value=0.0, bar_style='info', description='Progress:', layout=Layout(height='25px', width='50%'),…"
      ]
     },
     "metadata": {},
     "output_type": "display_data"
    }
   ],
   "source": [
    "yearly_counts_df = crime_yearly_count.cache()"
   ]
  },
  {
   "cell_type": "code",
   "execution_count": 88,
   "metadata": {},
   "outputs": [
    {
     "data": {
      "application/vnd.jupyter.widget-view+json": {
       "model_id": "",
       "version_major": 2,
       "version_minor": 0
      },
      "text/plain": [
       "FloatProgress(value=0.0, bar_style='info', description='Progress:', layout=Layout(height='25px', width='50%'),…"
      ]
     },
     "metadata": {},
     "output_type": "display_data"
    },
    {
     "name": "stdout",
     "output_type": "stream",
     "text": [
      "+--------------+----+------------------+------------------+\n",
      "|community_area|year|yearly_crime_count|PrevYearCrimeCount|\n",
      "+--------------+----+------------------+------------------+\n",
      "|            18|2001|                12|              null|\n",
      "|            18|2002|               925|                12|\n",
      "|            18|2003|              1288|               925|\n",
      "|            18|2004|              1036|              1288|\n",
      "|            18|2005|              1006|              1036|\n",
      "|            18|2006|              1004|              1006|\n",
      "|            18|2007|              1063|              1004|\n",
      "|            18|2008|              1018|              1063|\n",
      "|            18|2009|              1100|              1018|\n",
      "|            18|2010|               899|              1100|\n",
      "|            18|2011|               851|               899|\n",
      "|            18|2012|               782|               851|\n",
      "|            18|2013|               634|               782|\n",
      "|            18|2014|               527|               634|\n",
      "|            18|2015|               588|               527|\n",
      "|            18|2016|               674|               588|\n",
      "|            18|2017|               610|               674|\n",
      "|            18|2018|               607|               610|\n",
      "|            18|2019|               553|               607|\n",
      "|            18|2020|               562|               553|\n",
      "+--------------+----+------------------+------------------+\n",
      "only showing top 20 rows"
     ]
    }
   ],
   "source": [
    "windowSpecYear = Window.partitionBy(\"community_area\").orderBy(\"year\")\n",
    "yearly_counts_df = yearly_counts_df.withColumn(\"PrevYearCrimeCount\", F.lag(\"yearly_crime_count\", 1).over(windowSpecYear))\n",
    "yearly_counts_df.show()"
   ]
  },
  {
   "cell_type": "code",
   "execution_count": 89,
   "metadata": {},
   "outputs": [
    {
     "data": {
      "application/vnd.jupyter.widget-view+json": {
       "model_id": "",
       "version_major": 2,
       "version_minor": 0
      },
      "text/plain": [
       "FloatProgress(value=0.0, bar_style='info', description='Progress:', layout=Layout(height='25px', width='50%'),…"
      ]
     },
     "metadata": {},
     "output_type": "display_data"
    },
    {
     "name": "stdout",
     "output_type": "stream",
     "text": [
      "+--------------+----+------------------+------------------+---------------------+\n",
      "|community_area|year|yearly_crime_count|PrevYearCrimeCount|YearlyCrimeRateChange|\n",
      "+--------------+----+------------------+------------------+---------------------+\n",
      "|            18|2001|                12|                 0|                  0.0|\n",
      "|            18|2002|               925|                12|    76.08333333333333|\n",
      "|            18|2003|              1288|               925|   0.3924324324324324|\n",
      "|            18|2004|              1036|              1288|  -0.1956521739130435|\n",
      "|            18|2005|              1006|              1036| -0.02895752895752896|\n",
      "|            18|2006|              1004|              1006| -0.00198807157057...|\n",
      "|            18|2007|              1063|              1004|  0.05876494023904383|\n",
      "|            18|2008|              1018|              1063| -0.04233301975540922|\n",
      "|            18|2009|              1100|              1018|  0.08055009823182711|\n",
      "|            18|2010|               899|              1100| -0.18272727272727274|\n",
      "|            18|2011|               851|               899| -0.05339265850945495|\n",
      "|            18|2012|               782|               851| -0.08108108108108109|\n",
      "|            18|2013|               634|               782| -0.18925831202046037|\n",
      "|            18|2014|               527|               634| -0.16876971608832808|\n",
      "|            18|2015|               588|               527|   0.1157495256166983|\n",
      "|            18|2016|               674|               588|  0.14625850340136054|\n",
      "|            18|2017|               610|               674| -0.09495548961424333|\n",
      "|            18|2018|               607|               610| -0.00491803278688...|\n",
      "|            18|2019|               553|               607| -0.08896210873146623|\n",
      "|            18|2020|               562|               553|   0.0162748643761302|\n",
      "+--------------+----+------------------+------------------+---------------------+\n",
      "only showing top 20 rows"
     ]
    }
   ],
   "source": [
    "yearly_counts_df = yearly_counts_df.withColumn(\"YearlyCrimeRateChange\", \n",
    "                                               (F.col(\"yearly_crime_count\") - F.col(\"PrevYearCrimeCount\")) / F.col(\"PrevYearCrimeCount\"))\n",
    "\n",
    "yearly_counts_df = yearly_counts_df.fillna({\"PrevYearCrimeCount\": 0, \"YearlyCrimeRateChange\": 0})\n",
    "yearly_counts_df.show()\n"
   ]
  },
  {
   "cell_type": "code",
   "execution_count": 90,
   "metadata": {},
   "outputs": [
    {
     "data": {
      "application/vnd.jupyter.widget-view+json": {
       "model_id": "",
       "version_major": 2,
       "version_minor": 0
      },
      "text/plain": [
       "FloatProgress(value=0.0, bar_style='info', description='Progress:', layout=Layout(height='25px', width='50%'),…"
      ]
     },
     "metadata": {},
     "output_type": "display_data"
    }
   ],
   "source": [
    "crimes = crimes.join(yearly_counts_df, [\"community_area\", \"year\"], \"left\")"
   ]
  },
  {
   "cell_type": "code",
   "execution_count": 91,
   "metadata": {},
   "outputs": [
    {
     "data": {
      "application/vnd.jupyter.widget-view+json": {
       "model_id": "",
       "version_major": 2,
       "version_minor": 0
      },
      "text/plain": [
       "FloatProgress(value=0.0, bar_style='info', description='Progress:', layout=Layout(height='25px', width='50%'),…"
      ]
     },
     "metadata": {},
     "output_type": "display_data"
    },
    {
     "name": "stdout",
     "output_type": "stream",
     "text": [
      "+--------------+----+------------------+------------------+---------------------+\n",
      "|community_area|year|yearly_crime_count|PrevYearCrimeCount|YearlyCrimeRateChange|\n",
      "+--------------+----+------------------+------------------+---------------------+\n",
      "|            53|2002|              5541|                56|    97.94642857142857|\n",
      "|            53|2003|              7291|              5541|   0.3158274679660711|\n",
      "|            53|2003|              7291|              5541|   0.3158274679660711|\n",
      "|            53|2003|              7291|              5541|   0.3158274679660711|\n",
      "|            53|2004|              7888|              7291|  0.08188177204773008|\n",
      "|            53|2004|              7888|              7291|  0.08188177204773008|\n",
      "|            53|2005|              7941|              7888| 0.006719066937119675|\n",
      "|            53|2005|              7941|              7888| 0.006719066937119675|\n",
      "|            53|2005|              7941|              7888| 0.006719066937119675|\n",
      "|            53|2006|              7661|              7941| -0.03526004281576628|\n",
      "|            53|2006|              7661|              7941| -0.03526004281576628|\n",
      "|            53|2006|              7661|              7941| -0.03526004281576628|\n",
      "|            53|2007|              8049|              7661|  0.05064612974807466|\n",
      "|            53|2007|              8049|              7661|  0.05064612974807466|\n",
      "|            53|2007|              8049|              7661|  0.05064612974807466|\n",
      "|            53|2007|              8049|              7661|  0.05064612974807466|\n",
      "|            53|2008|              7144|              8049| -0.11243632749409864|\n",
      "|            53|2008|              7144|              8049| -0.11243632749409864|\n",
      "|            53|2008|              7144|              8049| -0.11243632749409864|\n",
      "|            53|2008|              7144|              8049| -0.11243632749409864|\n",
      "+--------------+----+------------------+------------------+---------------------+\n",
      "only showing top 20 rows"
     ]
    }
   ],
   "source": [
    "crimes.select(\"community_area\", \"year\", \"yearly_crime_count\", \"PrevYearCrimeCount\", \"YearlyCrimeRateChange\").show()"
   ]
  },
  {
   "cell_type": "code",
   "execution_count": 93,
   "metadata": {},
   "outputs": [
    {
     "data": {
      "application/vnd.jupyter.widget-view+json": {
       "model_id": "",
       "version_major": 2,
       "version_minor": 0
      },
      "text/plain": [
       "FloatProgress(value=0.0, bar_style='info', description='Progress:', layout=Layout(height='25px', width='50%'),…"
      ]
     },
     "metadata": {},
     "output_type": "display_data"
    },
    {
     "name": "stdout",
     "output_type": "stream",
     "text": [
      "+---------------------+-----+\n",
      "|YearlyCrimeRateChange|count|\n",
      "+---------------------+-----+\n",
      "|  0.07807486631016043| 1008|\n",
      "|                 74.5| 1359|\n",
      "|  -0.0851581508515815| 1504|\n",
      "|  0.12888198757763975|  727|\n",
      "| -0.08241371213899977|11724|\n",
      "| -0.08658546047016837|11773|\n",
      "|  0.08455034588777863| 1411|\n",
      "| 0.005757466714645...| 2795|\n",
      "| -0.00129082225377...| 7737|\n",
      "| -0.03186022610483042|  942|\n",
      "| 0.020080321285140562|  508|\n",
      "| -0.06820221358061622| 6230|\n",
      "|   -0.070748730964467|14645|\n",
      "|               96.675| 7814|\n",
      "|  0.05442176870748299| 1860|\n",
      "| -0.06932773109243698| 1772|\n",
      "|  0.03842348284960422| 6297|\n",
      "|  0.05990453460620525| 8882|\n",
      "|  0.10262193402875669| 3911|\n",
      "|  0.12111801242236025| 1805|\n",
      "+---------------------+-----+\n",
      "only showing top 20 rows"
     ]
    }
   ],
   "source": [
    "crimes.groupBy(\"YearlyCrimeRateChange\").count().show()"
   ]
  },
  {
   "cell_type": "code",
   "execution_count": 100,
   "metadata": {},
   "outputs": [
    {
     "data": {
      "application/vnd.jupyter.widget-view+json": {
       "model_id": "",
       "version_major": 2,
       "version_minor": 0
      },
      "text/plain": [
       "FloatProgress(value=0.0, bar_style='info', description='Progress:', layout=Layout(height='25px', width='50%'),…"
      ]
     },
     "metadata": {},
     "output_type": "display_data"
    }
   ],
   "source": [
    "categorical_columns = [\"community_area\"]\n",
    "numerical_columns = [\"below_poverty_level\", \"crowded_housing\", \"no_high_school_diploma\", \n",
    "                     \"per_capita_income\", \"unemployment\", \"areacrimecount\"]\n",
    "\n",
    "indexers = [StringIndexer(inputCol=c, outputCol=c+\"_index\", handleInvalid=\"keep\") for c in categorical_columns]\n",
    "\n",
    "assembler_inputs = [c+\"_index\" for c in categorical_columns] + numerical_columns\n",
    "assembler = VectorAssembler(inputCols=assembler_inputs, outputCol=\"features\", handleInvalid=\"skip\")\n",
    "\n",
    "scaler = StandardScaler(inputCol=\"features\", outputCol=\"scaledFeatures\")\n",
    "\n",
    "regressor = LinearRegression(labelCol=\"YearlyCrimeRateChange\", featuresCol=\"scaledFeatures\")"
   ]
  },
  {
   "cell_type": "code",
   "execution_count": 101,
   "metadata": {},
   "outputs": [
    {
     "data": {
      "application/vnd.jupyter.widget-view+json": {
       "model_id": "",
       "version_major": 2,
       "version_minor": 0
      },
      "text/plain": [
       "FloatProgress(value=0.0, bar_style='info', description='Progress:', layout=Layout(height='25px', width='50%'),…"
      ]
     },
     "metadata": {},
     "output_type": "display_data"
    }
   ],
   "source": [
    "pipeline_stages = indexers + [assembler, scaler, regressor]\n",
    "pipeline = Pipeline(stages=pipeline_stages)\n",
    "\n",
    "paramGrid = ParamGridBuilder() \\\n",
    "    .addGrid(regressor.regParam, [0.01, 0.1, 0.5]) \\\n",
    "    .addGrid(regressor.elasticNetParam, [0.0, 0.5, 1.0]) \\\n",
    "    .build()\n",
    "\n",
    "evaluator = RegressionEvaluator(\n",
    "    labelCol=\"YearlyCrimeRateChange\", \n",
    "    predictionCol=\"prediction\", \n",
    "    metricName=\"rmse\")\n",
    "\n",
    "crossval = CrossValidator(estimator=pipeline,\n",
    "                          estimatorParamMaps=paramGrid,\n",
    "                          evaluator=evaluator,\n",
    "                          numFolds=5)"
   ]
  },
  {
   "cell_type": "code",
   "execution_count": 102,
   "metadata": {},
   "outputs": [
    {
     "data": {
      "application/vnd.jupyter.widget-view+json": {
       "model_id": "",
       "version_major": 2,
       "version_minor": 0
      },
      "text/plain": [
       "FloatProgress(value=0.0, bar_style='info', description='Progress:', layout=Layout(height='25px', width='50%'),…"
      ]
     },
     "metadata": {},
     "output_type": "display_data"
    },
    {
     "name": "stdout",
     "output_type": "stream",
     "text": [
      "DataFrame[community_area: string, year: string, id: string, case_number: string, date: string, block: string, primary_type: string, description: string, location_description: string, arrest: string, domestic: string, beat: string, district: string, ward: string, x_coordinate: string, y_coordinate: string, latitude: double, longitude: double, location: string, month: string, community_name: string, birth_rate: string, below_poverty_level: double, crowded_housing: double, no_high_school_diploma: double, per_capita_income: int, unemployment: double, hourofday: int, dayofweek: int, season: string, isweekend: int, areacrimecount: bigint, timesincelastcrime: bigint, nextcrimedate: string, recurrentcrime: int, PrevCrimesAtLocation: bigint, yearly_crime_count: bigint, PrevYearCrimeCount: bigint, YearlyCrimeRateChange: double]"
     ]
    }
   ],
   "source": [
    "train_full, test = crimes.randomSplit([0.8, 0.2], seed=0)\n",
    "train_subset = train_full.sample(fraction=0.1, seed=0)  \n",
    "\n",
    "assert train_subset.count() > 0, \"Training subset is empty. Adjust the sampling fraction.\"\n",
    "assert test.count() > 0, \"Test dataset is empty. Ensure data is properly loaded and split.\"\n",
    "\n",
    "test.persist()\n",
    "train_subset.persist()"
   ]
  },
  {
   "cell_type": "code",
   "execution_count": 104,
   "metadata": {},
   "outputs": [
    {
     "data": {
      "application/vnd.jupyter.widget-view+json": {
       "model_id": "",
       "version_major": 2,
       "version_minor": 0
      },
      "text/plain": [
       "FloatProgress(value=0.0, bar_style='info', description='Progress:', layout=Layout(height='25px', width='50%'),…"
      ]
     },
     "metadata": {},
     "output_type": "display_data"
    }
   ],
   "source": [
    "cvModel = crossval.fit(train_subset)"
   ]
  },
  {
   "cell_type": "code",
   "execution_count": 105,
   "metadata": {},
   "outputs": [
    {
     "data": {
      "application/vnd.jupyter.widget-view+json": {
       "model_id": "",
       "version_major": 2,
       "version_minor": 0
      },
      "text/plain": [
       "FloatProgress(value=0.0, bar_style='info', description='Progress:', layout=Layout(height='25px', width='50%'),…"
      ]
     },
     "metadata": {},
     "output_type": "display_data"
    },
    {
     "name": "stdout",
     "output_type": "stream",
     "text": [
      "Test RMSE: 18.83"
     ]
    }
   ],
   "source": [
    "predictions = cvModel.transform(test)\n",
    "\n",
    "rmse = evaluator.evaluate(predictions)\n",
    "print(f\"Test RMSE: {rmse:.2f}\")"
   ]
  },
  {
   "cell_type": "code",
   "execution_count": 106,
   "metadata": {},
   "outputs": [
    {
     "data": {
      "application/vnd.jupyter.widget-view+json": {
       "model_id": "",
       "version_major": 2,
       "version_minor": 0
      },
      "text/plain": [
       "FloatProgress(value=0.0, bar_style='info', description='Progress:', layout=Layout(height='25px', width='50%'),…"
      ]
     },
     "metadata": {},
     "output_type": "display_data"
    },
    {
     "name": "stdout",
     "output_type": "stream",
     "text": [
      " - regParam: 0.01\n",
      " - elasticNetParam: 0.0\n",
      "Coefficients: [-0.12045403879589812,0.03275092619173329,-0.7803919192291107,0.7170935335115407,0.6744119989303673,0.48126255543731356,-0.40577017219722694]\n",
      "R^2 value: 0.0010472360193978236"
     ]
    }
   ],
   "source": [
    "bestModel = cvModel.bestModel\n",
    "lrModel = bestModel.stages[-1]\n",
    "r2 = lrModel.summary.r2\n",
    "print(f\" - regParam: {bestModel.stages[-1]._java_obj.getRegParam()}\")\n",
    "print(f\" - elasticNetParam: {bestModel.stages[-1]._java_obj.getElasticNetParam()}\")\n",
    "print(f'Coefficients: {lrModel.coefficients}')\n",
    "print(f'R^2 value: {r2}')"
   ]
  },
  {
   "cell_type": "markdown",
   "metadata": {},
   "source": [
    "The linear regression model aimed to predict the yearly crime rate change in a community using socio-economic indicators and crime history data. The model's performance, as indicated by a Root Mean Squared Error (RMSE) of 18.83, suggests moderate accuracy in its predictions. The model's coefficients reveal the direction and magnitude of each feature's influence on crime rate change. For instance, the coefficient for below_poverty_level is -0.12, indicating a negative relationship, whereas per_capita_income has a positive coefficient of 0.72, suggesting a positive association with crime rate changes.\n",
    "\n",
    "However, the R^2 value of 0.001 indicates that the model explains only a small fraction of the variance in crime rate changes, highlighting the complexity of crime dynamics and suggesting that additional factors might be necessary to improve predictive accuracy. This could be due to the nature of the input data that we had since the socio-economic factors provided were for a point in time, which would not allow for the temporal nature of what is required to get a better prediction. "
   ]
  },
  {
   "cell_type": "code",
   "execution_count": 107,
   "metadata": {},
   "outputs": [
    {
     "data": {
      "application/vnd.jupyter.widget-view+json": {
       "model_id": "",
       "version_major": 2,
       "version_minor": 0
      },
      "text/plain": [
       "FloatProgress(value=0.0, bar_style='info', description='Progress:', layout=Layout(height='25px', width='50%'),…"
      ]
     },
     "metadata": {},
     "output_type": "display_data"
    }
   ],
   "source": [
    "spark.stop()"
   ]
  }
 ],
 "metadata": {
  "kernelspec": {
   "display_name": "PySpark",
   "language": "",
   "name": "pysparkkernel"
  },
  "language_info": {
   "codemirror_mode": {
    "name": "python",
    "version": 3
   },
   "mimetype": "text/x-python",
   "name": "pyspark",
   "pygments_lexer": "python3"
  }
 },
 "nbformat": 4,
 "nbformat_minor": 4
}
